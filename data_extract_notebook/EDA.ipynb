{
 "cells": [
  {
   "cell_type": "code",
   "execution_count": 1,
   "id": "22ad324e",
   "metadata": {},
   "outputs": [],
   "source": [
    "import pandas as pd\n",
    "import numpy as np\n",
    "import os\n",
    "import shutil\n",
    "import csv\n",
    "\n",
    "import numpy as np\n",
    "import pandas as pd\n",
    "from pathlib import Path\n",
    "import os.path\n",
    "import matplotlib.pyplot as plt\n",
    "import tensorflow as tf\n",
    "import glob\n",
    "import random\n",
    "\n",
    "import seaborn as sns\n",
    "import matplotlib.pyplot as plt\n"
   ]
  },
  {
   "cell_type": "code",
   "execution_count": 2,
   "id": "6575d67b",
   "metadata": {},
   "outputs": [],
   "source": [
    "label=['bkl', 'nv', 'df', 'mel', 'vasc', 'bcc', 'akiec']\n",
    "\n",
    "# bkl=Benign keratosis (solar lentigo / seborrheic keratosis / lichen planus-like keratosis)\n",
    "# nv=Melanocytic nevus\n",
    "# df=Dermatofibroma\n",
    "# mel=Melanoma\n",
    "# vasc=Vascular lesion\n",
    "# bcc=Basal cell carcinoma\n",
    "# akiec=Actinic keratosis\n"
   ]
  },
  {
   "cell_type": "code",
   "execution_count": 23,
   "id": "2f008e3a",
   "metadata": {},
   "outputs": [],
   "source": [
    "#creating every folder metadata\n",
    "data=pd.DataFrame()\n",
    "for i in label:\n",
    "    train_dir = os.getcwd()+'/'+\"image\"+'/'+i\n",
    "    train_filepaths = list(os.listdir(train_dir))\n",
    "\n",
    "    name = pd.Series(train_filepaths, name='Filename').astype(str)\n",
    "    labels = pd.Series(i, name='Label')\n",
    "\n",
    "        # Concatenate filepaths and labels\n",
    "    df=pd.concat([name, labels], axis=1)\n",
    "    df['Label']=df['Label'].fillna(i)\n",
    "    \n",
    "    filename = f'data_{i}.csv'\n",
    "    df.to_csv(filename, index=False)\n",
    "\n"
   ]
  },
  {
   "cell_type": "code",
   "execution_count": 24,
   "id": "0928e944",
   "metadata": {},
   "outputs": [],
   "source": [
    "#combining every metadata to one single csv file\n",
    "import pandas as pd\n",
    "import os\n",
    "\n",
    "# set the directory where the CSV files are located\n",
    "directory =os.getcwd()\n",
    "\n",
    "# create an empty list to hold the dataframes\n",
    "df_list = []\n",
    "\n",
    "# iterate through each file in the directory\n",
    "for filename in os.listdir(directory):\n",
    "    if filename.endswith('.csv'):\n",
    "        filepath = os.path.join(directory, filename)\n",
    "        # read the CSV file into a Pandas dataframe and append it to the list\n",
    "        df_list.append(pd.read_csv(filepath))\n",
    "\n",
    "# concatenate the dataframes in the list into a single dataframe\n",
    "merged_df = pd.concat(df_list, ignore_index=True)\n",
    "\n",
    "# write the merged dataframe to a new CSV file\n",
    "merged_df.to_csv('data.csv', index=False)"
   ]
  },
  {
   "cell_type": "code",
   "execution_count": 25,
   "id": "567634ee",
   "metadata": {},
   "outputs": [
    {
     "data": {
      "text/html": [
       "<div>\n",
       "<style scoped>\n",
       "    .dataframe tbody tr th:only-of-type {\n",
       "        vertical-align: middle;\n",
       "    }\n",
       "\n",
       "    .dataframe tbody tr th {\n",
       "        vertical-align: top;\n",
       "    }\n",
       "\n",
       "    .dataframe thead th {\n",
       "        text-align: right;\n",
       "    }\n",
       "</style>\n",
       "<table border=\"1\" class=\"dataframe\">\n",
       "  <thead>\n",
       "    <tr style=\"text-align: right;\">\n",
       "      <th></th>\n",
       "      <th>Filename</th>\n",
       "      <th>Label</th>\n",
       "    </tr>\n",
       "  </thead>\n",
       "  <tbody>\n",
       "    <tr>\n",
       "      <th>0</th>\n",
       "      <td>ISIC_0030870.jpg</td>\n",
       "      <td>df</td>\n",
       "    </tr>\n",
       "    <tr>\n",
       "      <th>1</th>\n",
       "      <td>ISIC_0034169.jpg</td>\n",
       "      <td>df</td>\n",
       "    </tr>\n",
       "    <tr>\n",
       "      <th>2</th>\n",
       "      <td>ISIC_0054702.jpg</td>\n",
       "      <td>df</td>\n",
       "    </tr>\n",
       "    <tr>\n",
       "      <th>3</th>\n",
       "      <td>ISIC_0028346.jpg</td>\n",
       "      <td>df</td>\n",
       "    </tr>\n",
       "    <tr>\n",
       "      <th>4</th>\n",
       "      <td>ISIC_0071233.jpg</td>\n",
       "      <td>df</td>\n",
       "    </tr>\n",
       "    <tr>\n",
       "      <th>...</th>\n",
       "      <td>...</td>\n",
       "      <td>...</td>\n",
       "    </tr>\n",
       "    <tr>\n",
       "      <th>9922</th>\n",
       "      <td>ISIC_0054451.jpg</td>\n",
       "      <td>bcc</td>\n",
       "    </tr>\n",
       "    <tr>\n",
       "      <th>9923</th>\n",
       "      <td>ISIC_0057170.jpg</td>\n",
       "      <td>bcc</td>\n",
       "    </tr>\n",
       "    <tr>\n",
       "      <th>9924</th>\n",
       "      <td>ISIC_0058257.jpg</td>\n",
       "      <td>bcc</td>\n",
       "    </tr>\n",
       "    <tr>\n",
       "      <th>9925</th>\n",
       "      <td>ISIC_0059149.jpg</td>\n",
       "      <td>bcc</td>\n",
       "    </tr>\n",
       "    <tr>\n",
       "      <th>9926</th>\n",
       "      <td>ISIC_0069934.jpg</td>\n",
       "      <td>bcc</td>\n",
       "    </tr>\n",
       "  </tbody>\n",
       "</table>\n",
       "<p>9927 rows × 2 columns</p>\n",
       "</div>"
      ],
      "text/plain": [
       "              Filename Label\n",
       "0     ISIC_0030870.jpg    df\n",
       "1     ISIC_0034169.jpg    df\n",
       "2     ISIC_0054702.jpg    df\n",
       "3     ISIC_0028346.jpg    df\n",
       "4     ISIC_0071233.jpg    df\n",
       "...                ...   ...\n",
       "9922  ISIC_0054451.jpg   bcc\n",
       "9923  ISIC_0057170.jpg   bcc\n",
       "9924  ISIC_0058257.jpg   bcc\n",
       "9925  ISIC_0059149.jpg   bcc\n",
       "9926  ISIC_0069934.jpg   bcc\n",
       "\n",
       "[9927 rows x 2 columns]"
      ]
     },
     "execution_count": 25,
     "metadata": {},
     "output_type": "execute_result"
    }
   ],
   "source": [
    "data=pd.read_csv('data.csv')\n",
    "data"
   ]
  },
  {
   "cell_type": "code",
   "execution_count": 26,
   "id": "0884f8ce",
   "metadata": {},
   "outputs": [
    {
     "data": {
      "text/plain": [
       "array(['df', 'vasc', 'nv', 'akiec', 'bkl', 'mel', 'bcc'], dtype=object)"
      ]
     },
     "execution_count": 26,
     "metadata": {},
     "output_type": "execute_result"
    }
   ],
   "source": [
    "data['Label'].unique()"
   ]
  },
  {
   "cell_type": "code",
   "execution_count": 27,
   "id": "2b657b71",
   "metadata": {},
   "outputs": [
    {
     "data": {
      "text/plain": [
       "nv       2202\n",
       "bkl      2124\n",
       "bcc      2023\n",
       "mel      2022\n",
       "akiec    1064\n",
       "vasc      253\n",
       "df        239\n",
       "Name: Label, dtype: int64"
      ]
     },
     "execution_count": 27,
     "metadata": {},
     "output_type": "execute_result"
    }
   ],
   "source": [
    "data['Label'].value_counts()"
   ]
  },
  {
   "cell_type": "markdown",
   "id": "1168fc2a",
   "metadata": {},
   "source": [
    "## EDA"
   ]
  },
  {
   "cell_type": "code",
   "execution_count": 28,
   "id": "a8fbc611",
   "metadata": {},
   "outputs": [
    {
     "data": {
      "text/plain": [
       "0"
      ]
     },
     "execution_count": 28,
     "metadata": {},
     "output_type": "execute_result"
    }
   ],
   "source": [
    "data.duplicated().sum()"
   ]
  },
  {
   "cell_type": "code",
   "execution_count": 29,
   "id": "ba63566a",
   "metadata": {},
   "outputs": [
    {
     "data": {
      "text/html": [
       "<div>\n",
       "<style scoped>\n",
       "    .dataframe tbody tr th:only-of-type {\n",
       "        vertical-align: middle;\n",
       "    }\n",
       "\n",
       "    .dataframe tbody tr th {\n",
       "        vertical-align: top;\n",
       "    }\n",
       "\n",
       "    .dataframe thead th {\n",
       "        text-align: right;\n",
       "    }\n",
       "</style>\n",
       "<table border=\"1\" class=\"dataframe\">\n",
       "  <thead>\n",
       "    <tr style=\"text-align: right;\">\n",
       "      <th></th>\n",
       "      <th>Filename</th>\n",
       "      <th>Label</th>\n",
       "    </tr>\n",
       "  </thead>\n",
       "  <tbody>\n",
       "    <tr>\n",
       "      <th>count</th>\n",
       "      <td>9927</td>\n",
       "      <td>9927</td>\n",
       "    </tr>\n",
       "    <tr>\n",
       "      <th>unique</th>\n",
       "      <td>9927</td>\n",
       "      <td>7</td>\n",
       "    </tr>\n",
       "    <tr>\n",
       "      <th>top</th>\n",
       "      <td>ISIC_0030870.jpg</td>\n",
       "      <td>nv</td>\n",
       "    </tr>\n",
       "    <tr>\n",
       "      <th>freq</th>\n",
       "      <td>1</td>\n",
       "      <td>2202</td>\n",
       "    </tr>\n",
       "  </tbody>\n",
       "</table>\n",
       "</div>"
      ],
      "text/plain": [
       "                Filename Label\n",
       "count               9927  9927\n",
       "unique              9927     7\n",
       "top     ISIC_0030870.jpg    nv\n",
       "freq                   1  2202"
      ]
     },
     "execution_count": 29,
     "metadata": {},
     "output_type": "execute_result"
    }
   ],
   "source": [
    "data.describe(include='all')"
   ]
  },
  {
   "cell_type": "code",
   "execution_count": 30,
   "id": "ea455b54",
   "metadata": {},
   "outputs": [
    {
     "data": {
      "text/plain": [
       "<Axes: xlabel='Label', ylabel='Count'>"
      ]
     },
     "execution_count": 30,
     "metadata": {},
     "output_type": "execute_result"
    },
    {
     "data": {
      "image/png": "[encoded data removed]",
      "text/plain": [
       "<Figure size 1800x500 with 1 Axes>"
      ]
     },
     "metadata": {},
     "output_type": "display_data"
    }
   ],
   "source": [
    "plt.figure(figsize=(18,5))\n",
    "sns.histplot(x='Label',data=data,kde=True)"
   ]
  },
  {
   "cell_type": "code",
   "execution_count": 31,
   "id": "09c63078",
   "metadata": {},
   "outputs": [
    {
     "data": {
      "text/plain": [
       "<Axes: xlabel='count', ylabel='Label'>"
      ]
     },
     "execution_count": 31,
     "metadata": {},
     "output_type": "execute_result"
    },
    {
     "data": {
      "image/png": "[encoded data removed]",
      "text/plain": [
       "<Figure size 1000x500 with 1 Axes>"
      ]
     },
     "metadata": {},
     "output_type": "display_data"
    }
   ],
   "source": [
    "fig, ax1 = plt.subplots(1, 1, figsize = (10, 5))\n",
    "sns.countplot(y='Label',data=data, hue=\"Label\",ax=ax1)"
   ]
  },
  {
   "cell_type": "markdown",
   "id": "9d3d2b7a",
   "metadata": {},
   "source": [
    "# deleting the excess data randomly\n"
   ]
  },
  {
   "cell_type": "code",
   "execution_count": 65,
   "id": "fba95744",
   "metadata": {},
   "outputs": [
    {
     "name": "stdout",
     "output_type": "stream",
     "text": [
      "Deleted ISIC_0062184_0_6147.jpg from akiec class.\n"
     ]
    }
   ],
   "source": [
    "## don't run\n",
    "import os\n",
    "import random\n",
    "\n",
    "class_name ='akiec' #your directory\n",
    "dataset_path =os.getcwd()+'/'+\"image\"\n",
    "\n",
    "class_dir = os.path.join(dataset_path, class_name)\n",
    "\n",
    "# Get a list of all images in the class directory\n",
    "# images = os.listdir(class_dir)\n",
    "for i in range(#):\n",
    "    images = os.listdir(class_dir)\n",
    "    # Choose a random image to delete\n",
    "    image_to_delete = random.choice(images)\n",
    "\n",
    "    # Delete the image\n",
    "    os.remove(os.path.join(class_dir, image_to_delete))\n",
    "#     print(f\"Deleted {image_to_delete} from {class_name} class.\")\n",
    "\n",
    "\n",
    "print(f\"Deleted {image_to_delete} from {class_name} class.\")\n"
   ]
  },
  {
   "cell_type": "markdown",
   "id": "6b2e4704",
   "metadata": {},
   "source": [
    "# data augumentation\n"
   ]
  },
  {
   "cell_type": "code",
   "execution_count": 60,
   "id": "73e57fd7",
   "metadata": {},
   "outputs": [],
   "source": [
    "from keras.preprocessing.image import ImageDataGenerator\n",
    "import tensorflow as tf\n",
    "from tensorflow import keras\n",
    "# Define data generator with augmentation parameters\n",
    "data_gen = ImageDataGenerator(\n",
    "    rotation_range=15,  \n",
    "    width_shift_range=0.12,  \n",
    "    height_shift_range=0.12,\n",
    "    zoom_range=0.15,\n",
    "    shear_range=0.2,  \n",
    "    horizontal_flip=True,  \n",
    "    fill_mode='nearest'  \n",
    ")\n",
    "\n",
    "# Define input directory and output directory\n",
    "input_dir =os.getcwd()+'/'+'image_copy'+'/'+'akiec'\n",
    "output_dir = os.getcwd()+'/'+'image'+'/'+'akiec'\n",
    "\n",
    "# Get list of image filenames in input directory\n",
    "img_filenames = os.listdir(input_dir)\n",
    "\n",
    "# Loop through each image file and apply augmentation\n",
    "for img_filename in img_filenames:\n",
    "    # Load image\n",
    "    img = tf.keras.utils.load_img(os.path.join(input_dir, img_filename))\n",
    "    \n",
    "    # Convert image to numpy array\n",
    "    x = tf.keras.utils.img_to_array(img)\n",
    "    x = x.reshape((1,) + x.shape)\n",
    "    \n",
    "    # Apply augmentation and save resulting images to output directory\n",
    "    i = 0\n",
    "    for batch in data_gen.flow(x, batch_size=1, save_to_dir=output_dir, save_prefix=img_filename.split('.')[0], save_format='jpg'):\n",
    "        i += 1\n",
    "        if i > 2:  # generate 4 augmented images for each input image\n",
    "            break\n"
   ]
  },
  {
   "cell_type": "markdown",
   "id": "29bc84e5",
   "metadata": {},
   "source": [
    "# creating the metadata of all classes"
   ]
  },
  {
   "cell_type": "code",
   "execution_count": 66,
   "id": "fc3c6911",
   "metadata": {},
   "outputs": [],
   "source": [
    "#creating every folder metadata\n",
    "data=pd.DataFrame()\n",
    "for i in label:\n",
    "    train_dir = os.getcwd()+'/'+\"image\"+'/'+i\n",
    "    train_filepaths = list(os.listdir(train_dir))\n",
    "\n",
    "    name = pd.Series(train_filepaths, name='Filename').astype(str)\n",
    "    labels = pd.Series(i, name='Label')\n",
    "\n",
    "        # Concatenate filepaths and labels\n",
    "    df=pd.concat([name, labels], axis=1)\n",
    "    df['Label']=df['Label'].fillna(i)\n",
    "    \n",
    "    filename = f'data_{i}.csv'\n",
    "    df.to_csv(filename, index=False)\n",
    "\n",
    "#combining every metadata to one single csv file\n",
    "import pandas as pd\n",
    "import os\n",
    "\n",
    "# set the directory where the CSV files are located\n",
    "directory =os.getcwd()\n",
    "\n",
    "# create an empty list to hold the dataframes\n",
    "df_list = []\n",
    "\n",
    "# iterate through each file in the directory\n",
    "for filename in os.listdir(directory):\n",
    "    if filename.endswith('.csv'):\n",
    "        filepath = os.path.join(directory, filename)\n",
    "        # read the CSV file into a Pandas dataframe and append it to the list\n",
    "        df_list.append(pd.read_csv(filepath))\n",
    "\n",
    "# concatenate the dataframes in the list into a single dataframe\n",
    "merged_df = pd.concat(df_list, ignore_index=True)\n",
    "\n",
    "# write the merged dataframe to a new CSV file\n",
    "merged_df.to_csv('data.csv', index=False)"
   ]
  },
  {
   "cell_type": "code",
   "execution_count": 67,
   "id": "5006b798",
   "metadata": {},
   "outputs": [
    {
     "data": {
      "text/html": [
       "<div>\n",
       "<style scoped>\n",
       "    .dataframe tbody tr th:only-of-type {\n",
       "        vertical-align: middle;\n",
       "    }\n",
       "\n",
       "    .dataframe tbody tr th {\n",
       "        vertical-align: top;\n",
       "    }\n",
       "\n",
       "    .dataframe thead th {\n",
       "        text-align: right;\n",
       "    }\n",
       "</style>\n",
       "<table border=\"1\" class=\"dataframe\">\n",
       "  <thead>\n",
       "    <tr style=\"text-align: right;\">\n",
       "      <th></th>\n",
       "      <th>Filename</th>\n",
       "      <th>Label</th>\n",
       "    </tr>\n",
       "  </thead>\n",
       "  <tbody>\n",
       "    <tr>\n",
       "      <th>0</th>\n",
       "      <td>ISIC_0031443_0_8557.jpg</td>\n",
       "      <td>df</td>\n",
       "    </tr>\n",
       "    <tr>\n",
       "      <th>1</th>\n",
       "      <td>ISIC_0024553_0_9818.jpg</td>\n",
       "      <td>df</td>\n",
       "    </tr>\n",
       "    <tr>\n",
       "      <th>2</th>\n",
       "      <td>ISIC_0073189_0_5841.jpg</td>\n",
       "      <td>df</td>\n",
       "    </tr>\n",
       "    <tr>\n",
       "      <th>3</th>\n",
       "      <td>ISIC_0033675_0_7195.jpg</td>\n",
       "      <td>df</td>\n",
       "    </tr>\n",
       "    <tr>\n",
       "      <th>4</th>\n",
       "      <td>ISIC_0059504_0_2378.jpg</td>\n",
       "      <td>df</td>\n",
       "    </tr>\n",
       "    <tr>\n",
       "      <th>...</th>\n",
       "      <td>...</td>\n",
       "      <td>...</td>\n",
       "    </tr>\n",
       "    <tr>\n",
       "      <th>14886</th>\n",
       "      <td>ISIC_0054451.jpg</td>\n",
       "      <td>bcc</td>\n",
       "    </tr>\n",
       "    <tr>\n",
       "      <th>14887</th>\n",
       "      <td>ISIC_0057170.jpg</td>\n",
       "      <td>bcc</td>\n",
       "    </tr>\n",
       "    <tr>\n",
       "      <th>14888</th>\n",
       "      <td>ISIC_0058257.jpg</td>\n",
       "      <td>bcc</td>\n",
       "    </tr>\n",
       "    <tr>\n",
       "      <th>14889</th>\n",
       "      <td>ISIC_0059149.jpg</td>\n",
       "      <td>bcc</td>\n",
       "    </tr>\n",
       "    <tr>\n",
       "      <th>14890</th>\n",
       "      <td>ISIC_0069934.jpg</td>\n",
       "      <td>bcc</td>\n",
       "    </tr>\n",
       "  </tbody>\n",
       "</table>\n",
       "<p>14891 rows × 2 columns</p>\n",
       "</div>"
      ],
      "text/plain": [
       "                      Filename Label\n",
       "0      ISIC_0031443_0_8557.jpg    df\n",
       "1      ISIC_0024553_0_9818.jpg    df\n",
       "2      ISIC_0073189_0_5841.jpg    df\n",
       "3      ISIC_0033675_0_7195.jpg    df\n",
       "4      ISIC_0059504_0_2378.jpg    df\n",
       "...                        ...   ...\n",
       "14886         ISIC_0054451.jpg   bcc\n",
       "14887         ISIC_0057170.jpg   bcc\n",
       "14888         ISIC_0058257.jpg   bcc\n",
       "14889         ISIC_0059149.jpg   bcc\n",
       "14890         ISIC_0069934.jpg   bcc\n",
       "\n",
       "[14891 rows x 2 columns]"
      ]
     },
     "execution_count": 67,
     "metadata": {},
     "output_type": "execute_result"
    }
   ],
   "source": [
    "df=pd.read_csv('data.csv')\n",
    "df"
   ]
  },
  {
   "cell_type": "code",
   "execution_count": 68,
   "id": "9bb5b925",
   "metadata": {},
   "outputs": [
    {
     "data": {
      "text/plain": [
       "vasc     2277\n",
       "nv       2202\n",
       "df       2151\n",
       "bkl      2124\n",
       "akiec    2092\n",
       "bcc      2023\n",
       "mel      2022\n",
       "Name: Label, dtype: int64"
      ]
     },
     "execution_count": 68,
     "metadata": {},
     "output_type": "execute_result"
    }
   ],
   "source": [
    "df['Label'].value_counts()"
   ]
  },
  {
   "cell_type": "code",
   "execution_count": 69,
   "id": "6dfe9749",
   "metadata": {},
   "outputs": [
    {
     "data": {
      "text/plain": [
       "<Axes: xlabel='Label', ylabel='Count'>"
      ]
     },
     "execution_count": 69,
     "metadata": {},
     "output_type": "execute_result"
    },
    {
     "data": {
      "image/png": "[encoded data removed]",
      "text/plain": [
       "<Figure size 1800x500 with 1 Axes>"
      ]
     },
     "metadata": {},
     "output_type": "display_data"
    }
   ],
   "source": [
    "plt.figure(figsize=(18,5))\n",
    "sns.histplot(x='Label',data=df,kde=True)"
   ]
  },
  {
   "cell_type": "markdown",
   "id": "4c08e0e6",
   "metadata": {},
   "source": [
    "# image resizing"
   ]
  },
  {
   "cell_type": "code",
   "execution_count": 72,
   "id": "6f07c316",
   "metadata": {},
   "outputs": [
    {
     "name": "stdout",
     "output_type": "stream",
     "text": [
      "(450, 600, 3)\n"
     ]
    }
   ],
   "source": [
    "import cv2\n",
    "path=os.getcwd()+'/'+\"image\"+'/'+'bcc'+'/'+'ISIC_0024332.jpg'\n",
    "# read image\n",
    "img = cv2.imread(path, cv2.IMREAD_UNCHANGED)\n",
    " \n",
    "# get dimensions of image\n",
    "dimensions = img.shape\n",
    "print(dimensions)"
   ]
  },
  {
   "cell_type": "code",
   "execution_count": 74,
   "id": "8a4715ba",
   "metadata": {},
   "outputs": [],
   "source": [
    "for i in label:\n",
    "    os.mkdir(os.getcwd()+'/'+\"preprocess_img\"+\"/\"+str(i))"
   ]
  },
  {
   "cell_type": "code",
   "execution_count": 82,
   "id": "74a5e25a",
   "metadata": {},
   "outputs": [],
   "source": [
    "import os\n",
    "for i in label:\n",
    "    dir_path =os.getcwd()+'/'+\"image\"+'/'+i  # Replace with the path to your directory\n",
    "\n",
    "    for filename in os.listdir(dir_path):\n",
    "        if not (filename.endswith(\".jpeg\") or filename.endswith(\".jpg\")):\n",
    "            os.remove(os.path.join(dir_path, filename))\n"
   ]
  },
  {
   "cell_type": "code",
   "execution_count": 83,
   "id": "a2313cd7",
   "metadata": {},
   "outputs": [],
   "source": [
    "from PIL import Image\n",
    "import os\n",
    "\n",
    "# Set input and output paths\n",
    "for i in label:\n",
    "    input_path =os.getcwd()+'/'+\"image\"+'/'+i\n",
    "    output_path =os.getcwd()+'/'+\"preprocess_img\"+'/'+i\n",
    "\n",
    "        # Set desired size\n",
    "    size = (256, 256)\n",
    "\n",
    "        # Loop over input images and resize\n",
    "    for filename in os.listdir(input_path):\n",
    "        with Image.open(os.path.join(input_path, filename)) as img:\n",
    "            img = img.resize(size)\n",
    "            img.save(os.path.join(output_path, filename))\n"
   ]
  },
  {
   "cell_type": "markdown",
   "id": "25c02047",
   "metadata": {},
   "source": [
    "# data suffle"
   ]
  },
  {
   "cell_type": "code",
   "execution_count": 90,
   "id": "0cf6cff7",
   "metadata": {},
   "outputs": [
    {
     "data": {
      "text/html": [
       "<div>\n",
       "<style scoped>\n",
       "    .dataframe tbody tr th:only-of-type {\n",
       "        vertical-align: middle;\n",
       "    }\n",
       "\n",
       "    .dataframe tbody tr th {\n",
       "        vertical-align: top;\n",
       "    }\n",
       "\n",
       "    .dataframe thead th {\n",
       "        text-align: right;\n",
       "    }\n",
       "</style>\n",
       "<table border=\"1\" class=\"dataframe\">\n",
       "  <thead>\n",
       "    <tr style=\"text-align: right;\">\n",
       "      <th></th>\n",
       "      <th>Filename</th>\n",
       "      <th>Label</th>\n",
       "    </tr>\n",
       "  </thead>\n",
       "  <tbody>\n",
       "    <tr>\n",
       "      <th>0</th>\n",
       "      <td>ISIC_0031443_0_8557.jpg</td>\n",
       "      <td>df</td>\n",
       "    </tr>\n",
       "    <tr>\n",
       "      <th>1</th>\n",
       "      <td>ISIC_0024553_0_9818.jpg</td>\n",
       "      <td>df</td>\n",
       "    </tr>\n",
       "    <tr>\n",
       "      <th>2</th>\n",
       "      <td>ISIC_0073189_0_5841.jpg</td>\n",
       "      <td>df</td>\n",
       "    </tr>\n",
       "    <tr>\n",
       "      <th>3</th>\n",
       "      <td>ISIC_0033675_0_7195.jpg</td>\n",
       "      <td>df</td>\n",
       "    </tr>\n",
       "    <tr>\n",
       "      <th>4</th>\n",
       "      <td>ISIC_0059504_0_2378.jpg</td>\n",
       "      <td>df</td>\n",
       "    </tr>\n",
       "    <tr>\n",
       "      <th>...</th>\n",
       "      <td>...</td>\n",
       "      <td>...</td>\n",
       "    </tr>\n",
       "    <tr>\n",
       "      <th>14886</th>\n",
       "      <td>ISIC_0054451.jpg</td>\n",
       "      <td>bcc</td>\n",
       "    </tr>\n",
       "    <tr>\n",
       "      <th>14887</th>\n",
       "      <td>ISIC_0057170.jpg</td>\n",
       "      <td>bcc</td>\n",
       "    </tr>\n",
       "    <tr>\n",
       "      <th>14888</th>\n",
       "      <td>ISIC_0058257.jpg</td>\n",
       "      <td>bcc</td>\n",
       "    </tr>\n",
       "    <tr>\n",
       "      <th>14889</th>\n",
       "      <td>ISIC_0059149.jpg</td>\n",
       "      <td>bcc</td>\n",
       "    </tr>\n",
       "    <tr>\n",
       "      <th>14890</th>\n",
       "      <td>ISIC_0069934.jpg</td>\n",
       "      <td>bcc</td>\n",
       "    </tr>\n",
       "  </tbody>\n",
       "</table>\n",
       "<p>14891 rows × 2 columns</p>\n",
       "</div>"
      ],
      "text/plain": [
       "                      Filename Label\n",
       "0      ISIC_0031443_0_8557.jpg    df\n",
       "1      ISIC_0024553_0_9818.jpg    df\n",
       "2      ISIC_0073189_0_5841.jpg    df\n",
       "3      ISIC_0033675_0_7195.jpg    df\n",
       "4      ISIC_0059504_0_2378.jpg    df\n",
       "...                        ...   ...\n",
       "14886         ISIC_0054451.jpg   bcc\n",
       "14887         ISIC_0057170.jpg   bcc\n",
       "14888         ISIC_0058257.jpg   bcc\n",
       "14889         ISIC_0059149.jpg   bcc\n",
       "14890         ISIC_0069934.jpg   bcc\n",
       "\n",
       "[14891 rows x 2 columns]"
      ]
     },
     "execution_count": 90,
     "metadata": {},
     "output_type": "execute_result"
    }
   ],
   "source": [
    "df=pd.read_csv(\"data.csv\")\n",
    "df"
   ]
  },
  {
   "cell_type": "code",
   "execution_count": 95,
   "id": "dd75f9bc",
   "metadata": {},
   "outputs": [
    {
     "data": {
      "text/html": [
       "<div>\n",
       "<style scoped>\n",
       "    .dataframe tbody tr th:only-of-type {\n",
       "        vertical-align: middle;\n",
       "    }\n",
       "\n",
       "    .dataframe tbody tr th {\n",
       "        vertical-align: top;\n",
       "    }\n",
       "\n",
       "    .dataframe thead th {\n",
       "        text-align: right;\n",
       "    }\n",
       "</style>\n",
       "<table border=\"1\" class=\"dataframe\">\n",
       "  <thead>\n",
       "    <tr style=\"text-align: right;\">\n",
       "      <th></th>\n",
       "      <th>Unnamed: 0</th>\n",
       "      <th>Filename</th>\n",
       "      <th>Label</th>\n",
       "    </tr>\n",
       "  </thead>\n",
       "  <tbody>\n",
       "    <tr>\n",
       "      <th>0</th>\n",
       "      <td>2320</td>\n",
       "      <td>ISIC_0073110_0_8248.jpg</td>\n",
       "      <td>vasc</td>\n",
       "    </tr>\n",
       "    <tr>\n",
       "      <th>1</th>\n",
       "      <td>3137</td>\n",
       "      <td>ISIC_0072430_0_4186.jpg</td>\n",
       "      <td>vasc</td>\n",
       "    </tr>\n",
       "    <tr>\n",
       "      <th>2</th>\n",
       "      <td>1550</td>\n",
       "      <td>ISIC_0026254_0_7980.jpg</td>\n",
       "      <td>df</td>\n",
       "    </tr>\n",
       "    <tr>\n",
       "      <th>3</th>\n",
       "      <td>11593</td>\n",
       "      <td>ISIC_0024333.jpg</td>\n",
       "      <td>mel</td>\n",
       "    </tr>\n",
       "    <tr>\n",
       "      <th>4</th>\n",
       "      <td>1380</td>\n",
       "      <td>ISIC_0033790_0_5330.jpg</td>\n",
       "      <td>df</td>\n",
       "    </tr>\n",
       "    <tr>\n",
       "      <th>...</th>\n",
       "      <td>...</td>\n",
       "      <td>...</td>\n",
       "      <td>...</td>\n",
       "    </tr>\n",
       "    <tr>\n",
       "      <th>14886</th>\n",
       "      <td>5099</td>\n",
       "      <td>ISIC_0026096.jpg</td>\n",
       "      <td>nv</td>\n",
       "    </tr>\n",
       "    <tr>\n",
       "      <th>14887</th>\n",
       "      <td>1427</td>\n",
       "      <td>ISIC_0059265_0_7539.jpg</td>\n",
       "      <td>df</td>\n",
       "    </tr>\n",
       "    <tr>\n",
       "      <th>14888</th>\n",
       "      <td>2046</td>\n",
       "      <td>ISIC_0064115_0_2169.jpg</td>\n",
       "      <td>df</td>\n",
       "    </tr>\n",
       "    <tr>\n",
       "      <th>14889</th>\n",
       "      <td>13352</td>\n",
       "      <td>ISIC_0030690.jpg</td>\n",
       "      <td>bcc</td>\n",
       "    </tr>\n",
       "    <tr>\n",
       "      <th>14890</th>\n",
       "      <td>6823</td>\n",
       "      <td>ISIC_0065413_0_5777.jpg</td>\n",
       "      <td>akiec</td>\n",
       "    </tr>\n",
       "  </tbody>\n",
       "</table>\n",
       "<p>14891 rows × 3 columns</p>\n",
       "</div>"
      ],
      "text/plain": [
       "       Unnamed: 0                 Filename  Label\n",
       "0            2320  ISIC_0073110_0_8248.jpg   vasc\n",
       "1            3137  ISIC_0072430_0_4186.jpg   vasc\n",
       "2            1550  ISIC_0026254_0_7980.jpg     df\n",
       "3           11593         ISIC_0024333.jpg    mel\n",
       "4            1380  ISIC_0033790_0_5330.jpg     df\n",
       "...           ...                      ...    ...\n",
       "14886        5099         ISIC_0026096.jpg     nv\n",
       "14887        1427  ISIC_0059265_0_7539.jpg     df\n",
       "14888        2046  ISIC_0064115_0_2169.jpg     df\n",
       "14889       13352         ISIC_0030690.jpg    bcc\n",
       "14890        6823  ISIC_0065413_0_5777.jpg  akiec\n",
       "\n",
       "[14891 rows x 3 columns]"
      ]
     },
     "execution_count": 95,
     "metadata": {},
     "output_type": "execute_result"
    }
   ],
   "source": [
    "##suffeling the data\n",
    "df = df.sample(frac=1).reset_index(drop = True)\n",
    "df"
   ]
  },
  {
   "cell_type": "code",
   "execution_count": 96,
   "id": "2fecc9cb",
   "metadata": {},
   "outputs": [],
   "source": [
    "# exporting the suffle data\n",
    "df.to_csv('suffle_data.csv', header=True, index=False)"
   ]
  },
  {
   "cell_type": "markdown",
   "id": "a280316d",
   "metadata": {},
   "source": [
    "# data spliting"
   ]
  },
  {
   "cell_type": "code",
   "execution_count": 107,
   "id": "2b8dd4b5",
   "metadata": {},
   "outputs": [
    {
     "data": {
      "text/html": [
       "<div>\n",
       "<style scoped>\n",
       "    .dataframe tbody tr th:only-of-type {\n",
       "        vertical-align: middle;\n",
       "    }\n",
       "\n",
       "    .dataframe tbody tr th {\n",
       "        vertical-align: top;\n",
       "    }\n",
       "\n",
       "    .dataframe thead th {\n",
       "        text-align: right;\n",
       "    }\n",
       "</style>\n",
       "<table border=\"1\" class=\"dataframe\">\n",
       "  <thead>\n",
       "    <tr style=\"text-align: right;\">\n",
       "      <th></th>\n",
       "      <th>Unnamed</th>\n",
       "      <th>Filename</th>\n",
       "      <th>Label</th>\n",
       "    </tr>\n",
       "  </thead>\n",
       "  <tbody>\n",
       "    <tr>\n",
       "      <th>0</th>\n",
       "      <td>2320</td>\n",
       "      <td>ISIC_0073110_0_8248.jpg</td>\n",
       "      <td>vasc</td>\n",
       "    </tr>\n",
       "    <tr>\n",
       "      <th>1</th>\n",
       "      <td>3137</td>\n",
       "      <td>ISIC_0072430_0_4186.jpg</td>\n",
       "      <td>vasc</td>\n",
       "    </tr>\n",
       "    <tr>\n",
       "      <th>2</th>\n",
       "      <td>1550</td>\n",
       "      <td>ISIC_0026254_0_7980.jpg</td>\n",
       "      <td>df</td>\n",
       "    </tr>\n",
       "    <tr>\n",
       "      <th>3</th>\n",
       "      <td>11593</td>\n",
       "      <td>ISIC_0024333.jpg</td>\n",
       "      <td>mel</td>\n",
       "    </tr>\n",
       "    <tr>\n",
       "      <th>4</th>\n",
       "      <td>1380</td>\n",
       "      <td>ISIC_0033790_0_5330.jpg</td>\n",
       "      <td>df</td>\n",
       "    </tr>\n",
       "    <tr>\n",
       "      <th>...</th>\n",
       "      <td>...</td>\n",
       "      <td>...</td>\n",
       "      <td>...</td>\n",
       "    </tr>\n",
       "    <tr>\n",
       "      <th>14886</th>\n",
       "      <td>5099</td>\n",
       "      <td>ISIC_0026096.jpg</td>\n",
       "      <td>nv</td>\n",
       "    </tr>\n",
       "    <tr>\n",
       "      <th>14887</th>\n",
       "      <td>1427</td>\n",
       "      <td>ISIC_0059265_0_7539.jpg</td>\n",
       "      <td>df</td>\n",
       "    </tr>\n",
       "    <tr>\n",
       "      <th>14888</th>\n",
       "      <td>2046</td>\n",
       "      <td>ISIC_0064115_0_2169.jpg</td>\n",
       "      <td>df</td>\n",
       "    </tr>\n",
       "    <tr>\n",
       "      <th>14889</th>\n",
       "      <td>13352</td>\n",
       "      <td>ISIC_0030690.jpg</td>\n",
       "      <td>bcc</td>\n",
       "    </tr>\n",
       "    <tr>\n",
       "      <th>14890</th>\n",
       "      <td>6823</td>\n",
       "      <td>ISIC_0065413_0_5777.jpg</td>\n",
       "      <td>akiec</td>\n",
       "    </tr>\n",
       "  </tbody>\n",
       "</table>\n",
       "<p>14891 rows × 3 columns</p>\n",
       "</div>"
      ],
      "text/plain": [
       "       Unnamed                 Filename  Label\n",
       "0         2320  ISIC_0073110_0_8248.jpg   vasc\n",
       "1         3137  ISIC_0072430_0_4186.jpg   vasc\n",
       "2         1550  ISIC_0026254_0_7980.jpg     df\n",
       "3        11593         ISIC_0024333.jpg    mel\n",
       "4         1380  ISIC_0033790_0_5330.jpg     df\n",
       "...        ...                      ...    ...\n",
       "14886     5099         ISIC_0026096.jpg     nv\n",
       "14887     1427  ISIC_0059265_0_7539.jpg     df\n",
       "14888     2046  ISIC_0064115_0_2169.jpg     df\n",
       "14889    13352         ISIC_0030690.jpg    bcc\n",
       "14890     6823  ISIC_0065413_0_5777.jpg  akiec\n",
       "\n",
       "[14891 rows x 3 columns]"
      ]
     },
     "execution_count": 107,
     "metadata": {},
     "output_type": "execute_result"
    }
   ],
   "source": [
    "data=pd.read_csv(\"suffle_data.csv\")\n",
    "data"
   ]
  },
  {
   "cell_type": "code",
   "execution_count": 108,
   "id": "7f1c652e",
   "metadata": {},
   "outputs": [
    {
     "data": {
      "text/html": [
       "<div>\n",
       "<style scoped>\n",
       "    .dataframe tbody tr th:only-of-type {\n",
       "        vertical-align: middle;\n",
       "    }\n",
       "\n",
       "    .dataframe tbody tr th {\n",
       "        vertical-align: top;\n",
       "    }\n",
       "\n",
       "    .dataframe thead th {\n",
       "        text-align: right;\n",
       "    }\n",
       "</style>\n",
       "<table border=\"1\" class=\"dataframe\">\n",
       "  <thead>\n",
       "    <tr style=\"text-align: right;\">\n",
       "      <th></th>\n",
       "      <th>Filename</th>\n",
       "      <th>Label</th>\n",
       "    </tr>\n",
       "  </thead>\n",
       "  <tbody>\n",
       "    <tr>\n",
       "      <th>0</th>\n",
       "      <td>ISIC_0073110_0_8248.jpg</td>\n",
       "      <td>vasc</td>\n",
       "    </tr>\n",
       "    <tr>\n",
       "      <th>1</th>\n",
       "      <td>ISIC_0072430_0_4186.jpg</td>\n",
       "      <td>vasc</td>\n",
       "    </tr>\n",
       "    <tr>\n",
       "      <th>2</th>\n",
       "      <td>ISIC_0026254_0_7980.jpg</td>\n",
       "      <td>df</td>\n",
       "    </tr>\n",
       "    <tr>\n",
       "      <th>3</th>\n",
       "      <td>ISIC_0024333.jpg</td>\n",
       "      <td>mel</td>\n",
       "    </tr>\n",
       "    <tr>\n",
       "      <th>4</th>\n",
       "      <td>ISIC_0033790_0_5330.jpg</td>\n",
       "      <td>df</td>\n",
       "    </tr>\n",
       "    <tr>\n",
       "      <th>...</th>\n",
       "      <td>...</td>\n",
       "      <td>...</td>\n",
       "    </tr>\n",
       "    <tr>\n",
       "      <th>14886</th>\n",
       "      <td>ISIC_0026096.jpg</td>\n",
       "      <td>nv</td>\n",
       "    </tr>\n",
       "    <tr>\n",
       "      <th>14887</th>\n",
       "      <td>ISIC_0059265_0_7539.jpg</td>\n",
       "      <td>df</td>\n",
       "    </tr>\n",
       "    <tr>\n",
       "      <th>14888</th>\n",
       "      <td>ISIC_0064115_0_2169.jpg</td>\n",
       "      <td>df</td>\n",
       "    </tr>\n",
       "    <tr>\n",
       "      <th>14889</th>\n",
       "      <td>ISIC_0030690.jpg</td>\n",
       "      <td>bcc</td>\n",
       "    </tr>\n",
       "    <tr>\n",
       "      <th>14890</th>\n",
       "      <td>ISIC_0065413_0_5777.jpg</td>\n",
       "      <td>akiec</td>\n",
       "    </tr>\n",
       "  </tbody>\n",
       "</table>\n",
       "<p>14891 rows × 2 columns</p>\n",
       "</div>"
      ],
      "text/plain": [
       "                      Filename  Label\n",
       "0      ISIC_0073110_0_8248.jpg   vasc\n",
       "1      ISIC_0072430_0_4186.jpg   vasc\n",
       "2      ISIC_0026254_0_7980.jpg     df\n",
       "3             ISIC_0024333.jpg    mel\n",
       "4      ISIC_0033790_0_5330.jpg     df\n",
       "...                        ...    ...\n",
       "14886         ISIC_0026096.jpg     nv\n",
       "14887  ISIC_0059265_0_7539.jpg     df\n",
       "14888  ISIC_0064115_0_2169.jpg     df\n",
       "14889         ISIC_0030690.jpg    bcc\n",
       "14890  ISIC_0065413_0_5777.jpg  akiec\n",
       "\n",
       "[14891 rows x 2 columns]"
      ]
     },
     "execution_count": 108,
     "metadata": {},
     "output_type": "execute_result"
    }
   ],
   "source": [
    "data.drop(columns=[\"Unnamed\"], inplace=True)\n",
    "data"
   ]
  },
  {
   "cell_type": "code",
   "execution_count": 109,
   "id": "fe065bea",
   "metadata": {},
   "outputs": [],
   "source": [
    "from sklearn.model_selection import train_test_split"
   ]
  },
  {
   "cell_type": "code",
   "execution_count": 113,
   "id": "a66a0d54",
   "metadata": {},
   "outputs": [],
   "source": [
    "x=data['Filename']\n",
    "y=data['Label']"
   ]
  },
  {
   "cell_type": "code",
   "execution_count": 119,
   "id": "28109b11",
   "metadata": {},
   "outputs": [
    {
     "name": "stderr",
     "output_type": "stream",
     "text": [
      "Copying files: 14890 files [00:06, 2408.72 files/s]\n"
     ]
    }
   ],
   "source": [
    "import splitfolders\n",
    "splitfolders.ratio('/Users/prasantpoudel/Desktop/skin/preprocess_img', output=\"output\", seed=1337, ratio=(.8, 0.1,0.1)) "
   ]
  },
  {
   "cell_type": "markdown",
   "id": "5911a37a",
   "metadata": {},
   "source": [
    "# model training"
   ]
  },
  {
   "cell_type": "code",
   "execution_count": 3,
   "id": "a8db1075",
   "metadata": {},
   "outputs": [],
   "source": [
    "train_dir = Path(\"/Users/prasantpoudel/Desktop/skin/output/train\")\n",
    "train_filepaths = list(train_dir.glob(r'**/*.*'))\n",
    "\n",
    "test_dir = Path((\"/Users/prasantpoudel/Desktop/skin/output/test\"))\n",
    "test_filepaths = list(test_dir.glob(r'**/*.*'))\n",
    "\n",
    "val_dir = Path((\"/Users/prasantpoudel/Desktop/skin/output/val\"))\n",
    "val_filepaths = list(test_dir.glob(r'**/*.*'))"
   ]
  },
  {
   "cell_type": "code",
   "execution_count": 4,
   "id": "eb3eafa9",
   "metadata": {},
   "outputs": [],
   "source": [
    "def proc_img(filepath):\n",
    "    labels = [str(filepath[i]).split(\"/\")[-2] \\\n",
    "              for i in range(len(filepath))]\n",
    "\n",
    "    filepath = pd.Series(filepath, name='Filepath').astype(str)\n",
    "    labels = pd.Series(labels, name='Label')\n",
    "\n",
    "    # Concatenate filepaths and labels\n",
    "    df = pd.concat([filepath, labels], axis=1)\n",
    "\n",
    "    # Shuffle the DataFrame and reset index\n",
    "    df = df.sample(frac=1).reset_index(drop = True)\n",
    "    \n",
    "    return df"
   ]
  },
  {
   "cell_type": "code",
   "execution_count": 5,
   "id": "ffaf5b1b",
   "metadata": {},
   "outputs": [],
   "source": [
    "train_df = proc_img(train_filepaths)\n",
    "test_df = proc_img(test_filepaths)\n",
    "val_df = proc_img(val_filepaths)"
   ]
  },
  {
   "cell_type": "code",
   "execution_count": 6,
   "id": "66af93ac",
   "metadata": {},
   "outputs": [
    {
     "name": "stdout",
     "output_type": "stream",
     "text": [
      "-- Training set --\n",
      "\n",
      "Number of pictures: 11909\n",
      "\n",
      "Number of different labels: 8\n",
      "\n",
      "Labels: ['bkl' 'akiec' 'mel' 'vasc' 'bcc' 'df' 'nv' 'train']\n"
     ]
    }
   ],
   "source": [
    "print('-- Training set --\\n')\n",
    "print(f'Number of pictures: {train_df.shape[0]}\\n')\n",
    "print(f'Number of different labels: {len(train_df.Label.unique())}\\n')\n",
    "print(f'Labels: {train_df.Label.unique()}')"
   ]
  },
  {
   "cell_type": "code",
   "execution_count": 7,
   "id": "991fd0ac",
   "metadata": {},
   "outputs": [
    {
     "name": "stdout",
     "output_type": "stream",
     "text": [
      "Found 11908 validated image filenames belonging to 7 classes.\n",
      "Found 1495 validated image filenames belonging to 7 classes.\n",
      "Found 1495 validated image filenames belonging to 7 classes.\n"
     ]
    },
    {
     "name": "stderr",
     "output_type": "stream",
     "text": [
      "/Users/prasantpoudel/miniconda3/envs/tensorflow/lib/python3.10/site-packages/keras/preprocessing/image.py:1137: UserWarning: Found 1 invalid image filename(s) in x_col=\"Filepath\". These filename(s) will be ignored.\n",
      "  warnings.warn(\n",
      "/Users/prasantpoudel/miniconda3/envs/tensorflow/lib/python3.10/site-packages/keras/preprocessing/image.py:1137: UserWarning: Found 1 invalid image filename(s) in x_col=\"Filepath\". These filename(s) will be ignored.\n",
      "  warnings.warn(\n",
      "/Users/prasantpoudel/miniconda3/envs/tensorflow/lib/python3.10/site-packages/keras/preprocessing/image.py:1137: UserWarning: Found 1 invalid image filename(s) in x_col=\"Filepath\". These filename(s) will be ignored.\n",
      "  warnings.warn(\n"
     ]
    }
   ],
   "source": [
    "train_generator = tf.keras.preprocessing.image.ImageDataGenerator(\n",
    "    preprocessing_function=tf.keras.applications.vgg19.preprocess_input\n",
    ")\n",
    "\n",
    "test_generator = tf.keras.preprocessing.image.ImageDataGenerator(\n",
    "    preprocessing_function=tf.keras.applications.vgg19.preprocess_input\n",
    ")\n",
    "\n",
    "\n",
    "train_images = train_generator.flow_from_dataframe(\n",
    "    dataframe=train_df,\n",
    "    x_col='Filepath',\n",
    "    y_col='Label',\n",
    "    target_size=(224, 224),\n",
    "    color_mode='rgb',\n",
    "    class_mode='categorical',\n",
    "    batch_size=32,\n",
    "    shuffle=True,\n",
    "    seed=0,\n",
    "    rotation_range=30,\n",
    "    zoom_range=0.15,\n",
    "    width_shift_range=0.2,\n",
    "    height_shift_range=0.2,\n",
    "    shear_range=0.15,\n",
    "    horizontal_flip=True,\n",
    "    fill_mode=\"nearest\"\n",
    ")\n",
    "\n",
    "val_images = train_generator.flow_from_dataframe(\n",
    "    dataframe=val_df,\n",
    "    x_col='Filepath',\n",
    "    y_col='Label',\n",
    "    target_size=(224, 224),\n",
    "    color_mode='rgb',\n",
    "    class_mode='categorical',\n",
    "    batch_size=32,\n",
    "    shuffle=True,\n",
    "    seed=0,\n",
    "    rotation_range=30,\n",
    "    zoom_range=0.15,\n",
    "    width_shift_range=0.2,\n",
    "    height_shift_range=0.2,\n",
    "    shear_range=0.15,\n",
    "    horizontal_flip=True,\n",
    "    fill_mode=\"nearest\"\n",
    ")\n",
    "\n",
    "test_images = test_generator.flow_from_dataframe(\n",
    "    dataframe=test_df,\n",
    "    x_col='Filepath',\n",
    "    y_col='Label',\n",
    "    target_size=(224, 224),\n",
    "    color_mode='rgb',\n",
    "    class_mode='categorical',\n",
    "    batch_size=32,\n",
    "    shuffle=False\n",
    ")"
   ]
  },
  {
   "cell_type": "code",
   "execution_count": null,
   "id": "82e0e17c",
   "metadata": {},
   "outputs": [
    {
     "name": "stdout",
     "output_type": "stream",
     "text": [
      "Metal device set to: Apple M1\n"
     ]
    },
    {
     "name": "stderr",
     "output_type": "stream",
     "text": [
      "2023-04-09 17:31:36.974070: I tensorflow/core/common_runtime/pluggable_device/pluggable_device_factory.cc:306] Could not identify NUMA node of platform GPU ID 0, defaulting to 0. Your kernel may not have been built with NUMA support.\n",
      "2023-04-09 17:31:36.974100: I tensorflow/core/common_runtime/pluggable_device/pluggable_device_factory.cc:272] Created TensorFlow device (/job:localhost/replica:0/task:0/device:GPU:0 with 0 MB memory) -> physical PluggableDevice (device: 0, name: METAL, pci bus id: <undefined>)\n"
     ]
    },
    {
     "name": "stdout",
     "output_type": "stream",
     "text": [
      "Epoch 1/9\n"
     ]
    },
    {
     "name": "stderr",
     "output_type": "stream",
     "text": [
      "2023-04-09 17:31:38.668864: W tensorflow/tsl/platform/profile_utils/cpu_utils.cc:128] Failed to get CPU frequency: 0 Hz\n",
      "2023-04-09 17:31:39.231630: I tensorflow/core/grappler/optimizers/custom_graph_optimizer_registry.cc:114] Plugin optimizer for device_type GPU is enabled.\n"
     ]
    },
    {
     "name": "stdout",
     "output_type": "stream",
     "text": [
      " 24/373 [>.............................] - ETA: 7:26 - loss: 5.0006 - accuracy: 0.1836"
     ]
    }
   ],
   "source": [
    "from tensorflow.keras.layers import Dropout\n",
    "from tensorflow.keras.callbacks import ModelCheckpoint, EarlyStopping, ReduceLROnPlateau\n",
    "\n",
    "pretrained_model = tf.keras.applications.VGG19(\n",
    "    input_shape=(224, 224, 3),\n",
    "    include_top=False,\n",
    "    weights='imagenet',\n",
    ")\n",
    "\n",
    "for layer in pretrained_model.layers:\n",
    "    layer.trainable = False\n",
    "\n",
    "inputs = pretrained_model.input\n",
    "x = pretrained_model.output\n",
    "x = tf.keras.layers.Flatten(input_shape=(224,224,3))(x)\n",
    "x = tf.keras.layers.Dense(128, activation='relu')(x)\n",
    "x = Dropout(0.4)(x)\n",
    "x = tf.keras.layers.Dense(128, activation='relu')(x)\n",
    "x = Dropout(0.3)(x)\n",
    "outputs = tf.keras.layers.Dense(7, activation='softmax')(x)\n",
    "\n",
    "model = tf.keras.Model(inputs=inputs, outputs=outputs)\n",
    "\n",
    "model.compile(optimizer=tf.keras.optimizers.legacy.Adam(learning_rate=0.0001),\n",
    "              loss='categorical_crossentropy',\n",
    "              metrics=['accuracy'])\n",
    "\n",
    "# Define the callbacks\n",
    "ckpt = ModelCheckpoint('/content/model/model.h5',\n",
    "                        monitor='val_loss', save_best_only=True, verbose=3)\n",
    "\n",
    "estop = EarlyStopping(monitor='val_loss', patience=7, verbose=3, restore_best_weights=True)\n",
    "\n",
    "lr = ReduceLROnPlateau(monitor='val_loss', patience=3, verbose=3)\n",
    "\n",
    "callbacks = [ckpt, estop, lr]\n",
    "\n",
    "# Train the model\n",
    "history = model.fit(train_images,\n",
    "                    validation_data=val_images,\n",
    "                    epochs=9,\n",
    "                    callbacks=callbacks)\n"
   ]
  },
  {
   "cell_type": "code",
   "execution_count": null,
   "id": "e892f464",
   "metadata": {},
   "outputs": [],
   "source": []
  }
 ],
 "metadata": {
  "kernelspec": {
   "display_name": "Python 3.9 (tensorflow)",
   "language": "python",
   "name": "tensorflow"
  },
  "language_info": {
   "codemirror_mode": {
    "name": "ipython",
    "version": 3
   },
   "file_extension": ".py",
   "mimetype": "text/x-python",
   "name": "python",
   "nbconvert_exporter": "python",
   "pygments_lexer": "ipython3",
   "version": "3.9.16"
  }
 },
 "nbformat": 4,
 "nbformat_minor": 5
}
