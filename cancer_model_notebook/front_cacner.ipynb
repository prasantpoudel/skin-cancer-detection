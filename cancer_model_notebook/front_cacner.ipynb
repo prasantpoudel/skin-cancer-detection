{
 "cells": [
  {
   "cell_type": "code",
   "execution_count": 1,
   "id": "9089d8f4",
   "metadata": {},
   "outputs": [],
   "source": [
    "import numpy as np\n",
    "import pandas as pd\n",
    "from pathlib import Path\n",
    "import os.path\n",
    "import matplotlib.pyplot as plt\n",
    "import tensorflow as tf\n",
    "import glob\n"
   ]
  },
  {
   "cell_type": "code",
   "execution_count": 59,
   "id": "92077989",
   "metadata": {},
   "outputs": [],
   "source": [
    "train_dir = Path(\"/Users/prasantpoudel/Desktop/skin/front/data/train/\")\n",
    "train_filepaths = list(train_dir.glob(r'**/*.*'))\n",
    "\n",
    "test_dir = Path(\"/Users/prasantpoudel/Desktop/skin/front/data/test/\")\n",
    "test_filepaths = list(test_dir.glob(r'**/*.*'))\n"
   ]
  },
  {
   "cell_type": "code",
   "execution_count": 60,
   "id": "d0cd9d8f",
   "metadata": {},
   "outputs": [],
   "source": [
    "def proc_img(filepath):\n",
    "    labels = [str(filepath[i]).split(\"/\")[-2] \\\n",
    "              for i in range(len(filepath))]\n",
    "\n",
    "    filepath = pd.Series(filepath, name='Filepath').astype(str)\n",
    "    labels = pd.Series(labels, name='Label')\n",
    "\n",
    "    # Concatenate filepaths and labels\n",
    "    df = pd.concat([filepath, labels], axis=1)\n",
    "\n",
    "    # Shuffle the DataFrame and reset index\n",
    "    df = df.sample(frac=1).reset_index(drop = True)\n",
    "    \n",
    "    return df"
   ]
  },
  {
   "cell_type": "code",
   "execution_count": 61,
   "id": "be0a4836",
   "metadata": {},
   "outputs": [],
   "source": [
    "train_df = proc_img(train_filepaths)\n",
    "test_df = proc_img(test_filepaths)"
   ]
  },
  {
   "cell_type": "code",
   "execution_count": 62,
   "id": "0019b77d",
   "metadata": {},
   "outputs": [
    {
     "name": "stdout",
     "output_type": "stream",
     "text": [
      "-- Training set --\n",
      "\n",
      "Number of pictures: 9605\n",
      "\n",
      "Number of different labels: 2\n",
      "\n",
      "Labels: ['malignant' 'benign']\n"
     ]
    }
   ],
   "source": [
    "print('-- Training set --\\n')\n",
    "print(f'Number of pictures: {train_df.shape[0]}\\n')\n",
    "print(f'Number of different labels: {len(train_df.Label.unique())}\\n')\n",
    "print(f'Labels: {train_df.Label.unique()}')"
   ]
  },
  {
   "cell_type": "code",
   "execution_count": 63,
   "id": "add4f00b",
   "metadata": {},
   "outputs": [
    {
     "name": "stdout",
     "output_type": "stream",
     "text": [
      "Found 9605 validated image filenames belonging to 2 classes.\n",
      "Found 1000 validated image filenames belonging to 2 classes.\n"
     ]
    }
   ],
   "source": [
    "train_generator = tf.keras.preprocessing.image.ImageDataGenerator(\n",
    "    preprocessing_function=tf.keras.applications.vgg19.preprocess_input\n",
    ")\n",
    "\n",
    "test_generator = tf.keras.preprocessing.image.ImageDataGenerator(\n",
    "    preprocessing_function=tf.keras.applications.vgg19.preprocess_input\n",
    ")\n",
    "\n",
    "\n",
    "train_images = train_generator.flow_from_dataframe(\n",
    "    dataframe=train_df,\n",
    "    x_col='Filepath',\n",
    "    y_col='Label',\n",
    "    target_size=(224,224),\n",
    "    color_mode='rgb',\n",
    "    class_mode='binary',\n",
    "    batch_size=32,\n",
    "    shuffle=True,\n",
    "    seed=0,\n",
    "    rotation_range=30,\n",
    "    zoom_range=0.15,\n",
    "    width_shift_range=0.2,\n",
    "    height_shift_range=0.2,\n",
    "    shear_range=0.15,\n",
    "    horizontal_flip=True,\n",
    "    fill_mode=\"nearest\"\n",
    ")\n",
    "\n",
    "val_images = test_generator.flow_from_dataframe(\n",
    "    dataframe=test_df,\n",
    "    x_col='Filepath',\n",
    "    y_col='Label',\n",
    "    target_size=(224,224),\n",
    "    color_mode='rgb',\n",
    "    class_mode='binary',\n",
    "    batch_size=32,\n",
    "    shuffle=True,\n",
    "    seed=0,\n",
    "    rotation_range=30,\n",
    "    zoom_range=0.15,\n",
    "    width_shift_range=0.2,\n",
    "    height_shift_range=0.2,\n",
    "    shear_range=0.15,\n",
    "    horizontal_flip=True,\n",
    "    fill_mode=\"nearest\"\n",
    ")\n"
   ]
  },
  {
   "cell_type": "code",
   "execution_count": 65,
   "id": "5e22d331",
   "metadata": {},
   "outputs": [
    {
     "name": "stderr",
     "output_type": "stream",
     "text": [
      "WARNING:absl:At this time, the v2.11+ optimizer `tf.keras.optimizers.Adam` runs slowly on M1/M2 Macs, please use the legacy Keras optimizer instead, located at `tf.keras.optimizers.legacy.Adam`.\n",
      "WARNING:absl:There is a known slowdown when using v2.11+ Keras optimizers on M1/M2 Macs. Falling back to the legacy Keras optimizer, i.e., `tf.keras.optimizers.legacy.Adam`.\n"
     ]
    },
    {
     "name": "stdout",
     "output_type": "stream",
     "text": [
      "Epoch 1/50\n",
      "301/301 [==============================] - ETA: 0s - loss: 1.4895 - accuracy: 0.8878\n",
      "Epoch 1: val_loss improved from inf to 0.19735, saving model to /Users/prasantpoudel/Desktop/skin/front/data/model/model_resnet.h5\n",
      "301/301 [==============================] - 260s 854ms/step - loss: 1.4895 - accuracy: 0.8878 - val_loss: 0.1973 - val_accuracy: 0.9170 - lr: 0.0010\n",
      "Epoch 2/50\n",
      "301/301 [==============================] - ETA: 0s - loss: 0.2101 - accuracy: 0.9238\n",
      "Epoch 2: val_loss improved from 0.19735 to 0.19292, saving model to /Users/prasantpoudel/Desktop/skin/front/data/model/model_resnet.h5\n",
      "301/301 [==============================] - 277s 919ms/step - loss: 0.2101 - accuracy: 0.9238 - val_loss: 0.1929 - val_accuracy: 0.9190 - lr: 0.0010\n",
      "Epoch 3/50\n",
      "301/301 [==============================] - ETA: 0s - loss: 0.1514 - accuracy: 0.9435\n",
      "Epoch 3: val_loss did not improve from 0.19292\n",
      "301/301 [==============================] - 257s 854ms/step - loss: 0.1514 - accuracy: 0.9435 - val_loss: 0.1997 - val_accuracy: 0.9150 - lr: 0.0010\n",
      "Epoch 4/50\n",
      "301/301 [==============================] - ETA: 0s - loss: 0.1232 - accuracy: 0.9514\n",
      "Epoch 4: val_loss improved from 0.19292 to 0.19032, saving model to /Users/prasantpoudel/Desktop/skin/front/data/model/model_resnet.h5\n",
      "301/301 [==============================] - 278s 922ms/step - loss: 0.1232 - accuracy: 0.9514 - val_loss: 0.1903 - val_accuracy: 0.9210 - lr: 0.0010\n",
      "Epoch 5/50\n",
      "301/301 [==============================] - ETA: 0s - loss: 0.1147 - accuracy: 0.9525\n",
      "Epoch 5: val_loss did not improve from 0.19032\n",
      "301/301 [==============================] - 268s 891ms/step - loss: 0.1147 - accuracy: 0.9525 - val_loss: 0.2250 - val_accuracy: 0.9110 - lr: 0.0010\n",
      "Epoch 6/50\n",
      "301/301 [==============================] - ETA: 0s - loss: 0.0991 - accuracy: 0.9604\n",
      "Epoch 6: val_loss did not improve from 0.19032\n",
      "Restoring model weights from the end of the best epoch: 4.\n",
      "301/301 [==============================] - 274s 910ms/step - loss: 0.0991 - accuracy: 0.9604 - val_loss: 0.2537 - val_accuracy: 0.9190 - lr: 0.0010\n",
      "Epoch 6: early stopping\n"
     ]
    }
   ],
   "source": [
    "import tensorflow as tf\n",
    "from tensorflow.keras import layers\n",
    "from tensorflow.keras.layers import Dropout,Dense\n",
    "from tensorflow.keras.callbacks import ModelCheckpoint, EarlyStopping, ReduceLROnPlateau\n",
    "from tensorflow.keras.applications import ResNet50\n",
    "\n",
    "pretrained_model = ResNet50(\n",
    "    input_shape=(224, 224, 3),\n",
    "    include_top=False,\n",
    "    weights='imagenet',\n",
    ")\n",
    "\n",
    "for layer in pretrained_model.layers:\n",
    "    layer.trainable = False\n",
    "\n",
    "inputs = pretrained_model.input\n",
    "x = pretrained_model.output\n",
    "x = tf.keras.layers.Flatten()(x)\n",
    "x = tf.keras.layers.Dense(512, activation='relu')(x)\n",
    "x = Dropout(0.5)(x)\n",
    "# x = tf.keras.layers.Dense(256, activation='relu')(x)\n",
    "# x = Dropout(0.2)(x)\n",
    "outputs = tf.keras.layers.Dense(1, activation='sigmoid')(x)\n",
    "\n",
    "model = tf.keras.Model(inputs=inputs, outputs=outputs)\n",
    "\n",
    "model.compile(optimizer=tf.keras.optimizers.Adam(learning_rate=0.001),\n",
    "              loss='binary_crossentropy',\n",
    "              metrics=['accuracy'])\n",
    "\n",
    "# Define the callbacks\n",
    "ckpt = ModelCheckpoint('/Users/prasantpoudel/Desktop/skin/front/data/model/model_resnet.h5',\n",
    "                        monitor='val_loss', save_best_only=True, verbose=3)\n",
    "\n",
    "estop = EarlyStopping(monitor='val_loss', patience=2, verbose=1, restore_best_weights=True)\n",
    "\n",
    "lr = ReduceLROnPlateau(monitor='val_loss', patience=0.5, verbose=5,min_lr=0.001)\n",
    "\n",
    "callbacks = [ckpt, estop, lr]\n",
    "\n",
    "# Train the model\n",
    "history = model.fit(train_images,\n",
    "                    validation_data=val_images,\n",
    "                    epochs=50,\n",
    "                    callbacks=callbacks)"
   ]
  },
  {
   "cell_type": "code",
   "execution_count": 66,
   "id": "48460e4e",
   "metadata": {},
   "outputs": [
    {
     "data": {
      "image/png": "[encoded data removed]",
      "text/plain": [
       "<Figure size 640x480 with 1 Axes>"
      ]
     },
     "metadata": {},
     "output_type": "display_data"
    },
    {
     "data": {
      "image/png": "[encoded data removed]",
      "text/plain": [
       "<Figure size 640x480 with 1 Axes>"
      ]
     },
     "metadata": {},
     "output_type": "display_data"
    }
   ],
   "source": [
    "pd.DataFrame(history.history)[['accuracy','val_accuracy']].plot()\n",
    "plt.title(\"Accuracy\")\n",
    "plt.show()\n",
    "pd.DataFrame(history.history)[['loss','val_loss']].plot()\n",
    "plt.title(\"Loss\")\n",
    "plt.savefig('loss-graph.png')\n",
    "plt.show()"
   ]
  },
  {
   "cell_type": "code",
   "execution_count": 13,
   "id": "62467e7d",
   "metadata": {},
   "outputs": [
    {
     "name": "stdout",
     "output_type": "stream",
     "text": [
      "1/1 [==============================] - 1s 1s/step\n",
      "The image is classified as non cancer\n"
     ]
    }
   ],
   "source": [
    "import tensorflow as tf\n",
    "import numpy as np\n",
    "from PIL import Image\n",
    "\n",
    "# Load the pre-trained model\n",
    "model = tf.keras.models.load_model('front_model_resnet.h5')"
   ]
  },
  {
   "cell_type": "code",
   "execution_count": 14,
   "id": "c8152a65",
   "metadata": {},
   "outputs": [
    {
     "name": "stdout",
     "output_type": "stream",
     "text": [
      "1/1 [==============================] - 0s 52ms/step\n",
      "The image is classified as non cancer\n"
     ]
    }
   ],
   "source": [
    "# Load the binary image\n",
    "img = Image.open('melanoma_9879.jpg')\n",
    "img = img.resize((224, 224))  # Resize the image to match the model input size\n",
    "img_array = np.array(img)\n",
    "img_array = np.expand_dims(img_array, axis=0)  # Add batch dimension\n",
    "\n",
    "# Perform the classification\n",
    "prediction = model.predict(img_array)\n",
    "if prediction[0][0] > 0.5:\n",
    "    print(\"The image is classified as cancer\")\n",
    "    print(prediction[0][0])\n",
    "else:\n",
    "    print(\"The image is classified as non cancer\")"
   ]
  },
  {
   "cell_type": "code",
   "execution_count": null,
   "id": "fd637ba6",
   "metadata": {},
   "outputs": [],
   "source": []
  }
 ],
 "metadata": {
  "kernelspec": {
   "display_name": "Python 3.9 (tensorflow)",
   "language": "python",
   "name": "tensorflow"
  },
  "language_info": {
   "codemirror_mode": {
    "name": "ipython",
    "version": 3
   },
   "file_extension": ".py",
   "mimetype": "text/x-python",
   "name": "python",
   "nbconvert_exporter": "python",
   "pygments_lexer": "ipython3",
   "version": "3.9.16"
  }
 },
 "nbformat": 4,
 "nbformat_minor": 5
}
